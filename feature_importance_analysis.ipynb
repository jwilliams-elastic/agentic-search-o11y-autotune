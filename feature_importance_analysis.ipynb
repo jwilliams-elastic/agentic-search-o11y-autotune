{
 "cells": [
  {
   "cell_type": "markdown",
   "id": "c62889b2",
   "metadata": {},
   "source": [
    "# XGBoost Learning to Rank Model - Feature Importance Analysis\n",
    "\n",
    "This notebook analyzes the feature importance of the XGBoost Learning to Rank model used for property search ranking. The model was trained on search interaction data and uses 45 different features.\n",
    "\n",
    "We'll visualize which features have the most influence on the ranking decisions made by the model."
   ]
  },
  {
   "cell_type": "markdown",
   "id": "38ed9d29",
   "metadata": {},
   "source": [
    "## 1. Import Required Libraries\n",
    "\n",
    "First, let's import the necessary libraries for our analysis:"
   ]
  },
  {
   "cell_type": "code",
   "execution_count": null,
   "id": "1f2a58dc",
   "metadata": {},
   "outputs": [],
   "source": [
    "import os\n",
    "import json\n",
    "import xgboost as xgb\n",
    "import matplotlib.pyplot as plt\n",
    "import pandas as pd\n",
    "import numpy as np\n",
    "from matplotlib.ticker import FormatStrFormatter\n",
    "import seaborn as sns\n",
    "\n",
    "# Set Matplotlib style for better visuals\n",
    "plt.style.use('ggplot')\n",
    "sns.set(style=\"whitegrid\")"
   ]
  },
  {
   "cell_type": "markdown",
   "id": "e31b82e4",
   "metadata": {},
   "source": [
    "## 2. Load the XGBoost Model\n",
    "\n",
    "Next, we'll load the XGBoost model from the JSON file and the feature names from the metadata file:"
   ]
  },
  {
   "cell_type": "code",
   "execution_count": null,
   "id": "c4ed5268",
   "metadata": {},
   "outputs": [],
   "source": [
    "# Define paths to model and metadata files\n",
    "model_path = \"models/xgboost_ltr_model.json\"\n",
    "model_metadata_path = \"models/ltr_model_metadata.json\"\n",
    "\n",
    "# Load the XGBoost model\n",
    "print(f\"Loading model from {model_path}...\")\n",
    "ranker = xgb.XGBRanker()\n",
    "ranker.load_model(model_path)\n",
    "print(\"Model loaded successfully!\")\n",
    "\n",
    "# Load feature names from metadata\n",
    "with open(model_metadata_path, 'r') as f:\n",
    "    metadata = json.load(f)\n",
    "    feature_names = metadata.get('features', [])\n",
    "    print(f\"Loaded {len(feature_names)} feature names from metadata\")\n",
    "    \n",
    "# Display metadata information\n",
    "print(\"\\nModel Metadata:\")\n",
    "for key, value in metadata.items():\n",
    "    if key != 'features':  # Skip printing the full feature list for now\n",
    "        print(f\"- {key}: {value}\")"
   ]
  },
  {
   "cell_type": "markdown",
   "id": "be1c076b",
   "metadata": {},
   "source": [
    "## 3. Plot Feature Importance\n",
    "\n",
    "Now, let's use XGBoost's built-in `plot_importance` function to visualize the top 10 most important features:"
   ]
  },
  {
   "cell_type": "code",
   "execution_count": null,
   "id": "85e85f61",
   "metadata": {},
   "outputs": [],
   "source": [
    "# Set up figure size for better visualization\n",
    "plt.figure(figsize=(12, 8))\n",
    "\n",
    "# Plot feature importance using XGBoost's built-in function\n",
    "xgb.plot_importance(ranker, max_num_features=10, importance_type='weight')\n",
    "\n",
    "# Add title and adjust layout\n",
    "plt.title('Top 10 Most Important Features', fontsize=16)\n",
    "plt.tight_layout()\n",
    "\n",
    "# Show the plot\n",
    "plt.show()"
   ]
  },
  {
   "cell_type": "markdown",
   "id": "ed5abee2",
   "metadata": {},
   "source": [
    "## 4. Analyze Feature Importance\n",
    "\n",
    "Let's extract the feature importance values from the model and create a DataFrame to analyze them in more detail. \n",
    "We'll map the feature indices to their actual names from the metadata:"
   ]
  },
  {
   "cell_type": "code",
   "execution_count": null,
   "id": "0ae2e524",
   "metadata": {},
   "outputs": [],
   "source": [
    "# Get feature importance from the model\n",
    "importance = ranker.get_booster().get_score(importance_type='weight')\n",
    "\n",
    "# Create a mapping from feature indices to feature names\n",
    "feature_map = {f\"f{i}\": name for i, name in enumerate(feature_names)}\n",
    "\n",
    "# Create a DataFrame with importance values and feature names\n",
    "importance_df = pd.DataFrame({\n",
    "    'Feature': list(importance.keys()),\n",
    "    'Importance': list(importance.values())\n",
    "})\n",
    "\n",
    "# Map feature indices to actual feature names\n",
    "importance_df['Feature Name'] = importance_df['Feature'].map(feature_map)\n",
    "\n",
    "# Sort by importance value in descending order\n",
    "importance_df = importance_df.sort_values('Importance', ascending=False).reset_index(drop=True)\n",
    "\n",
    "# Display the DataFrame with all features\n",
    "pd.set_option('display.max_rows', None)  # Show all rows\n",
    "print(f\"Total number of features with importance scores: {len(importance_df)}\")\n",
    "importance_df"
   ]
  },
  {
   "cell_type": "code",
   "execution_count": null,
   "id": "79ca5d92",
   "metadata": {},
   "outputs": [],
   "source": [
    "# Calculate the percentage of total importance for each feature\n",
    "total_importance = importance_df['Importance'].sum()\n",
    "importance_df['Percentage'] = (importance_df['Importance'] / total_importance * 100).round(2)\n",
    "\n",
    "# Create a dataframe with only the top 10 features\n",
    "top_10_features = importance_df.head(10).copy()\n",
    "\n",
    "# Calculate the cumulative percentage of importance for the top 10 features\n",
    "top_10_features['Cumulative Percentage'] = top_10_features['Percentage'].cumsum()\n",
    "\n",
    "# Display the statistics for the top 10 features\n",
    "print(f\"Top 10 features account for {top_10_features['Percentage'].sum():.2f}% of total importance\")\n",
    "top_10_features[['Feature Name', 'Importance', 'Percentage', 'Cumulative Percentage']]"
   ]
  },
  {
   "cell_type": "markdown",
   "id": "d4d7de96",
   "metadata": {},
   "source": [
    "## 5. Custom Feature Importance Visualization\n",
    "\n",
    "Now let's create a custom visualization of feature importance with better formatting, labels, and color coding:"
   ]
  },
  {
   "cell_type": "code",
   "execution_count": null,
   "id": "e6538f29",
   "metadata": {},
   "outputs": [],
   "source": [
    "# Create a better visualized horizontal bar chart for the top 10 features\n",
    "plt.figure(figsize=(14, 10))\n",
    "\n",
    "# Get the top 10 features\n",
    "top_features = importance_df.head(10)\n",
    "\n",
    "# Create a colormap based on importance values\n",
    "colors = plt.cm.viridis(np.linspace(0, 0.8, len(top_features)))\n",
    "\n",
    "# Create horizontal bar plot\n",
    "bars = plt.barh(top_features['Feature Name'], top_features['Importance'], color=colors)\n",
    "\n",
    "# Add percentage labels to the right of each bar\n",
    "for i, bar in enumerate(bars):\n",
    "    percentage = top_features.iloc[i]['Percentage']\n",
    "    plt.text(bar.get_width() + bar.get_width() * 0.01, \n",
    "             bar.get_y() + bar.get_height() / 2, \n",
    "             f\"{percentage:.2f}%\", \n",
    "             va='center',\n",
    "             fontweight='bold')\n",
    "\n",
    "# Set labels and title\n",
    "plt.xlabel('Importance Score', fontsize=14)\n",
    "plt.ylabel('Feature Name', fontsize=14)\n",
    "plt.title('Top 10 Most Important Features in the XGBoost LTR Model', fontsize=16)\n",
    "\n",
    "# Reverse y-axis to have highest importance at the top\n",
    "plt.gca().invert_yaxis()\n",
    "\n",
    "# Add a grid for better readability\n",
    "plt.grid(axis='x', linestyle='--', alpha=0.7)\n",
    "\n",
    "# Adjust layout and show plot\n",
    "plt.tight_layout()\n",
    "plt.show()\n",
    "\n",
    "# Save the plot to a file\n",
    "plt.savefig('models/feature_importance_custom.png', dpi=300, bbox_inches='tight')\n",
    "print(\"Custom feature importance plot saved to models/feature_importance_custom.png\")"
   ]
  },
  {
   "cell_type": "code",
   "execution_count": null,
   "id": "d82cbc35",
   "metadata": {},
   "outputs": [],
   "source": [
    "# Group features by category based on their names\n",
    "def categorize_feature(feature_name):\n",
    "    if 'position' in feature_name:\n",
    "        return 'Position-related'\n",
    "    elif 'query' in feature_name:\n",
    "        return 'Query-related'\n",
    "    elif 'geo' in feature_name or 'distance' in feature_name or 'neighborhood' in feature_name:\n",
    "        return 'Geographic'\n",
    "    elif 'semantic' in feature_name:\n",
    "        return 'Semantic'\n",
    "    elif 'bm25' in feature_name:\n",
    "        return 'BM25 Relevance'\n",
    "    elif 'interaction' in feature_name or 'click' in feature_name or 'view' in feature_name or 'engagement' in feature_name:\n",
    "        return 'User Interaction'\n",
    "    elif 'price' in feature_name or 'tax' in feature_name or 'fee' in feature_name or 'square' in feature_name:\n",
    "        return 'Property Attributes'\n",
    "    elif 'bedroom' in feature_name or 'bathroom' in feature_name:\n",
    "        return 'Room-related'\n",
    "    elif 'search' in feature_name or 'template' in feature_name:\n",
    "        return 'Search Metadata'\n",
    "    else:\n",
    "        return 'Other'\n",
    "\n",
    "# Add category to the dataframe\n",
    "importance_df['Category'] = importance_df['Feature Name'].apply(categorize_feature)\n",
    "\n",
    "# Calculate importance by category\n",
    "category_importance = importance_df.groupby('Category')['Importance'].sum().sort_values(ascending=False)\n",
    "category_percentage = (category_importance / category_importance.sum() * 100).round(2)\n",
    "\n",
    "# Display importance by category\n",
    "category_df = pd.DataFrame({\n",
    "    'Category': category_importance.index,\n",
    "    'Importance': category_importance.values,\n",
    "    'Percentage': category_percentage.values\n",
    "})\n",
    "\n",
    "print(\"Feature Importance by Category:\")\n",
    "category_df"
   ]
  },
  {
   "cell_type": "code",
   "execution_count": null,
   "id": "ec070b2d",
   "metadata": {},
   "outputs": [],
   "source": [
    "# Visualize importance by category using a pie chart\n",
    "plt.figure(figsize=(12, 8))\n",
    "\n",
    "# Create a pie chart with percentage labels\n",
    "plt.pie(category_df['Percentage'], \n",
    "        labels=category_df['Category'], \n",
    "        autopct='%1.1f%%',\n",
    "        startangle=90, \n",
    "        shadow=True, \n",
    "        explode=[0.05] * len(category_df),\n",
    "        colors=plt.cm.tab10(np.arange(len(category_df))))\n",
    "\n",
    "# Add title\n",
    "plt.title('Feature Importance by Category', fontsize=16)\n",
    "\n",
    "# Ensure the pie chart is drawn as a circle\n",
    "plt.axis('equal')\n",
    "\n",
    "# Show the chart\n",
    "plt.tight_layout()\n",
    "plt.show()\n",
    "\n",
    "# Save the category chart\n",
    "plt.savefig('models/feature_importance_by_category.png', dpi=300, bbox_inches='tight')\n",
    "print(\"Category importance plot saved to models/feature_importance_by_category.png\")"
   ]
  },
  {
   "cell_type": "markdown",
   "id": "d39bbd9a",
   "metadata": {},
   "source": [
    "## Conclusion\n",
    "\n",
    "This notebook has analyzed the feature importance of the XGBoost Learning to Rank model used for property search ranking. We've:\n",
    "\n",
    "1. Loaded the model and metadata\n",
    "2. Visualized the top 10 most important features using XGBoost's built-in function\n",
    "3. Created a detailed DataFrame of feature importance with percentages\n",
    "4. Built a custom visualization with better formatting and labels\n",
    "5. Categorized features and analyzed importance by category\n",
    "\n",
    "The analysis helps understand which features have the most influence on the ranking decisions made by the model, which can guide further model improvements and search optimization.\n",
    "\n",
    "To use these insights:\n",
    "- Focus on improving the quality of the most important features\n",
    "- Consider removing or downweighting less important features\n",
    "- Use the category analysis to ensure a balanced feature set across different aspects of relevance"
   ]
  }
 ],
 "metadata": {
  "kernelspec": {
   "display_name": ".venv",
   "language": "python",
   "name": "python3"
  },
  "language_info": {
   "name": "python",
   "version": "3.12.4"
  }
 },
 "nbformat": 4,
 "nbformat_minor": 5
}
